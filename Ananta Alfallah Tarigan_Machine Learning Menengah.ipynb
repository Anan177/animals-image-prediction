{
  "cells": [
    {
      "cell_type": "markdown",
      "metadata": {
        "id": "9uxwWuCMpHIq"
      },
      "source": [
        "# Proyek Akhir : Image Classification Model Deployment\n",
        "- Nama: Ananta Alfallah Tarigan\n",
        "- Email: anantar437471@gmail.com\n",
        "- Id Dicoding: ananta_alfallah\n",
        "- Dataset: https://drive.google.com/drive/folders/1UxOLf-h-QNhwWL-q1Z1KgSUhBUsuFfTz?usp=sharing (memiliki resolusi gambar tidak seragam)"
      ]
    },
    {
      "cell_type": "code",
      "execution_count": 25,
      "metadata": {
        "colab": {
          "base_uri": "https://localhost:8080/"
        },
        "id": "nYxdCo6YG1hv",
        "outputId": "046b38c4-d554-4e68-d3cc-e30e239bcc83"
      },
      "outputs": [
        {
          "name": "stdout",
          "output_type": "stream",
          "text": [
            "Requirement already satisfied: split-folders in /usr/local/lib/python3.10/dist-packages (0.5.1)\n",
            "Drive already mounted at /content/drive; to attempt to forcibly remount, call drive.mount(\"/content/drive\", force_remount=True).\n"
          ]
        }
      ],
      "source": [
        "from google.colab import drive\n",
        "import tensorflow as tf\n",
        "!pip install split-folders\n",
        "import zipfile, splitfolders, os, random, shutil\n",
        "from PIL import Image\n",
        "\n",
        "from tensorflow.keras.preprocessing.image import ImageDataGenerator\n",
        "from tensorflow.keras.applications import MobileNetV2\n",
        "from tensorflow.keras.callbacks import EarlyStopping\n",
        "from tensorflow.keras.layers import Input\n",
        "import pathlib\n",
        "import numpy as np\n",
        "import matplotlib.pyplot as plt\n",
        "\n",
        "drive.mount('/content/drive')"
      ]
    },
    {
      "cell_type": "code",
      "execution_count": 2,
      "metadata": {
        "colab": {
          "base_uri": "https://localhost:8080/"
        },
        "id": "sBzzw1DuXc6H",
        "outputId": "e884cf13-f202-4d58-94bc-4299568bb417"
      },
      "outputs": [
        {
          "data": {
            "text/plain": [
              "['chicken', 'dog', 'horse', 'spider']"
            ]
          },
          "execution_count": 2,
          "metadata": {},
          "output_type": "execute_result"
        }
      ],
      "source": [
        "local_zip = '/content/drive/MyDrive/Project3/data_fix.zip'\n",
        "zip_ref = zipfile.ZipFile(local_zip, 'r')\n",
        "\n",
        "zip_ref.extractall('/content/drive/MyDrive/Project3/')\n",
        "\n",
        "zip_ref.close()\n",
        "\n",
        "base_dir = '/content/drive/MyDrive/Project3/data_fix'\n",
        "os.listdir('/content/drive/MyDrive/Project3/data_fix')"
      ]
    },
    {
      "cell_type": "markdown",
      "metadata": {
        "id": "6HfSe1Hiombs"
      },
      "source": [
        "Melakukan undersampling agar sample di tiap kelas berjumlah sama\n"
      ]
    },
    {
      "cell_type": "code",
      "execution_count": 3,
      "metadata": {
        "colab": {
          "base_uri": "https://localhost:8080/"
        },
        "id": "_UXxfqPDV3r9",
        "outputId": "3534b1b2-9fdb-4b4f-a1e6-e812ee53d090"
      },
      "outputs": [
        {
          "name": "stdout",
          "output_type": "stream",
          "text": [
            "['dog', 'spider', 'chicken', 'horse']\n"
          ]
        }
      ],
      "source": [
        "base_dir = '/content/drive/MyDrive/Project3/data_fix'\n",
        "undersampled_dir = os.path.join(base_dir, 'undersampled')\n",
        "os.makedirs(undersampled_dir, exist_ok=True)\n",
        "\n",
        "undersample_folders = ['dog', 'spider', 'chicken', 'horse']\n",
        "min_count = len(os.listdir('/content/drive/MyDrive/Project3/data_fix/horse'))\n",
        "\n",
        "for folder in undersample_folders:\n",
        "    folder_path = os.path.join(base_dir, folder)\n",
        "    files = os.listdir(folder_path)\n",
        "    files_to_keep = random.sample(files, min_count)\n",
        "    target_dir = os.path.join(undersampled_dir, folder)\n",
        "    os.makedirs(target_dir, exist_ok=True)\n",
        "    for file in files_to_keep:\n",
        "        source_file = os.path.join(folder_path, file)\n",
        "        target_file = os.path.join(target_dir, file)\n",
        "        shutil.copyfile(source_file, target_file)\n",
        "\n",
        "print(os.listdir(undersampled_dir))"
      ]
    },
    {
      "cell_type": "code",
      "execution_count": 23,
      "metadata": {
        "colab": {
          "base_uri": "https://localhost:8080/"
        },
        "id": "UW3SakLVaNQT",
        "outputId": "b23a5694-8b30-4d4f-c6fd-fb0efdf31aa9"
      },
      "outputs": [
        {
          "name": "stdout",
          "output_type": "stream",
          "text": [
            "chicken samples count: 2623\n",
            "dog samples count: 2623\n",
            "horse samples count: 2623\n",
            "spider samples count: 2623\n",
            "total sample dalam dataset: 10492\n"
          ]
        }
      ],
      "source": [
        "print('chicken samples count:', len(os.listdir('/content/drive/MyDrive/Project3/data_fix/undersampled/chicken')))\n",
        "print('dog samples count:', len(os.listdir('/content/drive/MyDrive/Project3/data_fix/undersampled/dog')))\n",
        "print('horse samples count:', len(os.listdir('/content/drive/MyDrive/Project3/data_fix/undersampled/horse')))\n",
        "print('spider samples count:', len(os.listdir('/content/drive/MyDrive/Project3/data_fix/undersampled/spider')))\n",
        "print('total sample dalam dataset:', (len(os.listdir('/content/drive/MyDrive/Project3/data_fix/undersampled/chicken'))+len(os.listdir('/content/drive/MyDrive/Project3/data_fix/undersampled/dog'))+len(os.listdir('/content/drive/MyDrive/Project3/data_fix/undersampled/horse'))+len(os.listdir('/content/drive/MyDrive/Project3/data_fix/undersampled/spider'))))"
      ]
    },
    {
      "cell_type": "markdown",
      "metadata": {
        "id": "TKO7HY7Sp9Lz"
      },
      "source": [
        "Melakukan library splitfolders untuk memisahkan train set dan validation set, dengan ratio (80% dan 20%)"
      ]
    },
    {
      "cell_type": "code",
      "execution_count": 8,
      "metadata": {
        "colab": {
          "base_uri": "https://localhost:8080/"
        },
        "id": "zytYd1k3PmS2",
        "outputId": "8fd77534-c419-40ca-f13a-0b2474818b84"
      },
      "outputs": [
        {
          "name": "stderr",
          "output_type": "stream",
          "text": [
            "Copying files: 10492 files [00:30, 339.31 files/s]\n"
          ]
        }
      ],
      "source": [
        "splitfolders.ratio('/content/drive/MyDrive/Project3/data_fix/undersampled', output=\"output\", seed=1337, ratio=(0.8, 0.2))\n"
      ]
    },
    {
      "cell_type": "code",
      "execution_count": 9,
      "metadata": {
        "colab": {
          "base_uri": "https://localhost:8080/"
        },
        "id": "UJtQxyFnQF5a",
        "outputId": "2c591dfc-f565-47a7-97d9-08df04375a95"
      },
      "outputs": [
        {
          "data": {
            "text/plain": [
              "['train', 'val']"
            ]
          },
          "execution_count": 9,
          "metadata": {},
          "output_type": "execute_result"
        }
      ],
      "source": [
        "os.listdir('output')"
      ]
    },
    {
      "cell_type": "code",
      "execution_count": 10,
      "metadata": {
        "colab": {
          "base_uri": "https://localhost:8080/"
        },
        "id": "ltgcHXKiQYq3",
        "outputId": "3ce82e06-6841-4127-d249-a664808cd00a"
      },
      "outputs": [
        {
          "data": {
            "text/plain": [
              "['chicken', 'spider', 'dog', 'horse']"
            ]
          },
          "execution_count": 10,
          "metadata": {},
          "output_type": "execute_result"
        }
      ],
      "source": [
        "os.listdir('output/train')"
      ]
    },
    {
      "cell_type": "code",
      "execution_count": 11,
      "metadata": {
        "colab": {
          "base_uri": "https://localhost:8080/"
        },
        "id": "LawynzTiQbFr",
        "outputId": "60af4b81-812e-4b13-b7ac-216eb040aa34"
      },
      "outputs": [
        {
          "data": {
            "text/plain": [
              "['chicken', 'spider', 'dog', 'horse']"
            ]
          },
          "execution_count": 11,
          "metadata": {},
          "output_type": "execute_result"
        }
      ],
      "source": [
        "os.listdir('output/val')"
      ]
    },
    {
      "cell_type": "code",
      "execution_count": 12,
      "metadata": {
        "id": "htJgI5VwQhIO"
      },
      "outputs": [],
      "source": [
        "train_dir = 'output/train'\n",
        "val_dir = 'output/val'"
      ]
    },
    {
      "cell_type": "code",
      "execution_count": 13,
      "metadata": {
        "id": "ZvcDbLwURFIa"
      },
      "outputs": [],
      "source": [
        "train_datagen = ImageDataGenerator(\n",
        "        rescale=1./255,\n",
        "        rotation_range=20,\n",
        "        width_shift_range=0.2,\n",
        "        height_shift_range=0.2,\n",
        "        shear_range=0.2,\n",
        "        zoom_range=0.2,\n",
        "        horizontal_flip=True,\n",
        "        fill_mode='nearest')\n",
        "validation_datagen = ImageDataGenerator(\n",
        "                    rescale=1./255)"
      ]
    },
    {
      "cell_type": "code",
      "execution_count": 14,
      "metadata": {
        "colab": {
          "base_uri": "https://localhost:8080/"
        },
        "id": "NDDg7ennTUta",
        "outputId": "99b50cbb-d074-4878-da9b-4465e753590c"
      },
      "outputs": [
        {
          "name": "stdout",
          "output_type": "stream",
          "text": [
            "Found 8392 images belonging to 4 classes.\n",
            "Found 2100 images belonging to 4 classes.\n"
          ]
        }
      ],
      "source": [
        "train_generator = train_datagen.flow_from_directory(train_dir,\n",
        "                                                    class_mode='categorical',\n",
        "                                                    target_size=(150, 150))\n",
        "\n",
        "validation_generator = validation_datagen.flow_from_directory(val_dir,\n",
        "                                                        class_mode='categorical',\n",
        "                                                        target_size=(150, 150))"
      ]
    },
    {
      "cell_type": "code",
      "execution_count": 18,
      "metadata": {
        "colab": {
          "base_uri": "https://localhost:8080/"
        },
        "id": "hJUhayR_uD-8",
        "outputId": "06bbb1d6-8d09-4aa2-defe-7d58c1014a26"
      },
      "outputs": [
        {
          "name": "stderr",
          "output_type": "stream",
          "text": [
            "WARNING:tensorflow:`input_shape` is undefined or non-square, or `rows` is not in [96, 128, 160, 192, 224]. Weights for input shape (224, 224) will be loaded as the default.\n"
          ]
        }
      ],
      "source": [
        "model = tf.keras.models.Sequential([\n",
        "    MobileNetV2(weights=\"imagenet\", include_top=False, input_tensor=Input(shape=(150, 150, 3))),\n",
        "    tf.keras.layers.Conv2D(64, (3, 3), activation='relu'),\n",
        "    tf.keras.layers.MaxPooling2D(2, 2),\n",
        "    tf.keras.layers.GlobalAveragePooling2D(),\n",
        "    tf.keras.layers.Dense(128, activation='relu'),\n",
        "    tf.keras.layers.Dropout(0.2),\n",
        "    tf.keras.layers.Dense(4, activation='softmax')\n",
        "])\n",
        "model.layers[0].trainable = False"
      ]
    },
    {
      "cell_type": "code",
      "execution_count": 19,
      "metadata": {
        "colab": {
          "base_uri": "https://localhost:8080/"
        },
        "id": "KcoD5inBF7ZN",
        "outputId": "44e27d58-3eb1-48c9-c4e6-48ff5d713a5a"
      },
      "outputs": [
        {
          "name": "stderr",
          "output_type": "stream",
          "text": [
            "WARNING:absl:`lr` is deprecated in Keras optimizer, please use `learning_rate` or use the legacy optimizer, e.g.,tf.keras.optimizers.legacy.Adam.\n"
          ]
        },
        {
          "name": "stdout",
          "output_type": "stream",
          "text": [
            "Epoch 1/100\n",
            "263/263 [==============================] - 76s 253ms/step - loss: 0.4296 - accuracy: 0.8762 - val_loss: 0.1958 - val_accuracy: 0.9448\n",
            "Epoch 2/100\n",
            "263/263 [==============================] - 63s 241ms/step - loss: 0.2477 - accuracy: 0.9192 - val_loss: 0.1224 - val_accuracy: 0.9619\n",
            "Epoch 3/100\n",
            "263/263 [==============================] - 63s 240ms/step - loss: 0.2125 - accuracy: 0.9327 - val_loss: 0.1465 - val_accuracy: 0.9519\n",
            "Epoch 4/100\n",
            "263/263 [==============================] - 63s 241ms/step - loss: 0.1901 - accuracy: 0.9396 - val_loss: 0.1349 - val_accuracy: 0.9567\n",
            "Epoch 5/100\n",
            "263/263 [==============================] - 66s 250ms/step - loss: 0.1873 - accuracy: 0.9382 - val_loss: 0.1608 - val_accuracy: 0.9567\n",
            "Epoch 6/100\n",
            "263/263 [==============================] - 63s 240ms/step - loss: 0.1659 - accuracy: 0.9458 - val_loss: 0.1283 - val_accuracy: 0.9652\n"
          ]
        }
      ],
      "source": [
        "early_stopping = EarlyStopping(monitor='val_loss', patience=4, restore_best_weights=True)\n",
        "\n",
        "model.compile(optimizer=tf.optimizers.Adam(lr=0.0001),\n",
        "              loss='categorical_crossentropy',\n",
        "              metrics=['accuracy'])\n",
        "\n",
        "history = model.fit(train_generator,\n",
        "              epochs=100,\n",
        "              validation_data=validation_generator, callbacks = [early_stopping])"
      ]
    },
    {
      "cell_type": "markdown",
      "metadata": {
        "id": "UC3ZFzxooepI"
      },
      "source": [
        "Akurasi pada training set dan validation set >92%"
      ]
    },
    {
      "cell_type": "code",
      "execution_count": 20,
      "metadata": {
        "colab": {
          "base_uri": "https://localhost:8080/",
          "height": 472
        },
        "id": "rHfn4frdurfR",
        "outputId": "332834b9-8c65-4a59-9ef7-2d66d58dae84"
      },
      "outputs": [
        {
          "data": {
            "image/png": "[encoded data removed]",
            "text/plain": [
              "<Figure size 640x480 with 1 Axes>"
            ]
          },
          "metadata": {},
          "output_type": "display_data"
        }
      ],
      "source": [
        "import matplotlib.pyplot as plt\n",
        "plt.plot(history.history['accuracy'])\n",
        "plt.plot(history.history['val_accuracy'])\n",
        "plt.title('Plot Akurasi')\n",
        "plt.ylabel('Akurasi')\n",
        "plt.xlabel('Epoch')\n",
        "plt.legend(['train', 'test'], loc='upper right')\n",
        "plt.show()"
      ]
    },
    {
      "cell_type": "code",
      "execution_count": 21,
      "metadata": {
        "colab": {
          "base_uri": "https://localhost:8080/",
          "height": 472
        },
        "id": "NkJPJIJXvAPy",
        "outputId": "40971ca5-c299-4001-f497-78dfff0a65cd"
      },
      "outputs": [
        {
          "data": {
            "image/png": "[encoded data removed]",
            "text/plain": [
              "<Figure size 640x480 with 1 Axes>"
            ]
          },
          "metadata": {},
          "output_type": "display_data"
        }
      ],
      "source": [
        "plt.plot(history.history['loss'])\n",
        "plt.plot(history.history['val_loss'])\n",
        "plt.title('Plot loss')\n",
        "plt.ylabel('Loss')\n",
        "plt.xlabel('Epoch')\n",
        "plt.legend(['train', 'test'], loc='upper right')\n",
        "plt.show()"
      ]
    },
    {
      "cell_type": "markdown",
      "metadata": {
        "id": "oOlBlNuOrCzl"
      },
      "source": [
        "Menulis kode untuk menyimpan model ke dalam format TF-Lite"
      ]
    },
    {
      "cell_type": "code",
      "execution_count": 27,
      "metadata": {
        "colab": {
          "base_uri": "https://localhost:8080/"
        },
        "id": "O-35GDBzqBe6",
        "outputId": "56fe87bc-779b-43dc-d172-d214341e880d"
      },
      "outputs": [
        {
          "data": {
            "text/plain": [
              "11852920"
            ]
          },
          "execution_count": 27,
          "metadata": {},
          "output_type": "execute_result"
        }
      ],
      "source": [
        "export_dir = '/content/drive/MyDrive/Project3/saved_model/'\n",
        "tf.saved_model.save(model, export_dir)\n",
        "\n",
        "converter = tf.lite.TFLiteConverter.from_saved_model(export_dir)\n",
        "tflite_model = converter.convert()\n",
        "\n",
        "tflite_model_file = pathlib.Path('/content/drive/MyDrive/Project3/animals.tflite')\n",
        "tflite_model_file.write_bytes(tflite_model)"
      ]
    }
  ],
  "metadata": {
    "accelerator": "GPU",
    "colab": {
      "gpuType": "T4",
      "provenance": []
    },
    "kernelspec": {
      "display_name": "Python 3",
      "name": "python3"
    },
    "language_info": {
      "name": "python"
    }
  },
  "nbformat": 4,
  "nbformat_minor": 0
}
